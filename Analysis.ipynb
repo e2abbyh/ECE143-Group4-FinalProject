{
 "cells": [
  {
   "cell_type": "markdown",
   "metadata": {},
   "source": [
    "## Imports"
   ]
  },
  {
   "cell_type": "code",
   "execution_count": 10,
   "metadata": {},
   "outputs": [],
   "source": [
    "import pandas as pd\n",
    "import plotly.graph_objects as go\n",
    "import matplotlib.pyplot as plt\n",
    "import numpy as np\n",
    "import seaborn as sns"
   ]
  },
  {
   "cell_type": "code",
   "execution_count": 2,
   "metadata": {},
   "outputs": [
    {
     "data": {
      "text/html": [
       "<div>\n",
       "<style scoped>\n",
       "    .dataframe tbody tr th:only-of-type {\n",
       "        vertical-align: middle;\n",
       "    }\n",
       "\n",
       "    .dataframe tbody tr th {\n",
       "        vertical-align: top;\n",
       "    }\n",
       "\n",
       "    .dataframe thead th {\n",
       "        text-align: right;\n",
       "    }\n",
       "</style>\n",
       "<table border=\"1\" class=\"dataframe\">\n",
       "  <thead>\n",
       "    <tr style=\"text-align: right;\">\n",
       "      <th></th>\n",
       "      <th>Senator</th>\n",
       "      <th>Estimated Holdings</th>\n",
       "      <th>Symbol</th>\n",
       "      <th>Company</th>\n",
       "      <th>Sector</th>\n",
       "      <th>Industry</th>\n",
       "      <th>Party</th>\n",
       "      <th>State</th>\n",
       "    </tr>\n",
       "  </thead>\n",
       "  <tbody>\n",
       "    <tr>\n",
       "      <th>0</th>\n",
       "      <td>Susan Collins (R-ME)</td>\n",
       "      <td>42333400</td>\n",
       "      <td>MMM</td>\n",
       "      <td>3M Company</td>\n",
       "      <td>Health Care</td>\n",
       "      <td>Medical/Dental Instruments</td>\n",
       "      <td>R</td>\n",
       "      <td>ME</td>\n",
       "    </tr>\n",
       "    <tr>\n",
       "      <th>1</th>\n",
       "      <td>Mark Warner (D-VA)</td>\n",
       "      <td>23574100</td>\n",
       "      <td>BDJ</td>\n",
       "      <td>Blackrock Enhanced Equity Divid Trust</td>\n",
       "      <td>Finance</td>\n",
       "      <td>Investment Managers</td>\n",
       "      <td>D</td>\n",
       "      <td>VA</td>\n",
       "    </tr>\n",
       "    <tr>\n",
       "      <th>2</th>\n",
       "      <td>Mitch McConnell (R-KY)</td>\n",
       "      <td>12320800</td>\n",
       "      <td>VFIAX</td>\n",
       "      <td>Vanguard 500 Index Admiral Fund</td>\n",
       "      <td>Finance</td>\n",
       "      <td>Investment Managers</td>\n",
       "      <td>R</td>\n",
       "      <td>KY</td>\n",
       "    </tr>\n",
       "    <tr>\n",
       "      <th>3</th>\n",
       "      <td>Dianne Feinstein (D-CA)</td>\n",
       "      <td>9205300</td>\n",
       "      <td>CBRE</td>\n",
       "      <td>CBRE Group</td>\n",
       "      <td>Finance</td>\n",
       "      <td>Investment Managers</td>\n",
       "      <td>D</td>\n",
       "      <td>CA</td>\n",
       "    </tr>\n",
       "    <tr>\n",
       "      <th>4</th>\n",
       "      <td>Elizabeth Warren (D-MA)</td>\n",
       "      <td>8439900</td>\n",
       "      <td>TRGIX</td>\n",
       "      <td>TIAA-CREF Growth &amp; Income Retirement Fund</td>\n",
       "      <td>Finance</td>\n",
       "      <td>Investment Managers</td>\n",
       "      <td>D</td>\n",
       "      <td>MA</td>\n",
       "    </tr>\n",
       "    <tr>\n",
       "      <th>...</th>\n",
       "      <td>...</td>\n",
       "      <td>...</td>\n",
       "      <td>...</td>\n",
       "      <td>...</td>\n",
       "      <td>...</td>\n",
       "      <td>...</td>\n",
       "      <td>...</td>\n",
       "      <td>...</td>\n",
       "    </tr>\n",
       "    <tr>\n",
       "      <th>2491</th>\n",
       "      <td>Jerry Moran (R-KS)</td>\n",
       "      <td>0</td>\n",
       "      <td>RIG</td>\n",
       "      <td>Transocean Ltd</td>\n",
       "      <td>Energy</td>\n",
       "      <td>Oil &amp; Gas Drilling</td>\n",
       "      <td>R</td>\n",
       "      <td>KS</td>\n",
       "    </tr>\n",
       "    <tr>\n",
       "      <th>2492</th>\n",
       "      <td>John Boozman (R-AR)</td>\n",
       "      <td>0</td>\n",
       "      <td>VCSH</td>\n",
       "      <td>Vanguard Short-term Corporate Bond</td>\n",
       "      <td>Finance</td>\n",
       "      <td>ETFs</td>\n",
       "      <td>R</td>\n",
       "      <td>AR</td>\n",
       "    </tr>\n",
       "    <tr>\n",
       "      <th>2493</th>\n",
       "      <td>Gary Peters (D-MI)</td>\n",
       "      <td>0</td>\n",
       "      <td>MCC</td>\n",
       "      <td>Medley Capital Corp</td>\n",
       "      <td>Finance</td>\n",
       "      <td>Closed-End Funds</td>\n",
       "      <td>D</td>\n",
       "      <td>MI</td>\n",
       "    </tr>\n",
       "    <tr>\n",
       "      <th>2494</th>\n",
       "      <td>Patty Murray (D-WA)</td>\n",
       "      <td>0</td>\n",
       "      <td>MET</td>\n",
       "      <td>MetLife Inc</td>\n",
       "      <td>Financial Services</td>\n",
       "      <td>Insurance - Life</td>\n",
       "      <td>D</td>\n",
       "      <td>WA</td>\n",
       "    </tr>\n",
       "    <tr>\n",
       "      <th>2495</th>\n",
       "      <td>Thad Cochran (R-MS)</td>\n",
       "      <td>0</td>\n",
       "      <td>WLL</td>\n",
       "      <td>Whiting Petroleum</td>\n",
       "      <td>Energy</td>\n",
       "      <td>Oil &amp; Gas Exploration &amp; Production</td>\n",
       "      <td>R</td>\n",
       "      <td>MS</td>\n",
       "    </tr>\n",
       "  </tbody>\n",
       "</table>\n",
       "<p>2496 rows × 8 columns</p>\n",
       "</div>"
      ],
      "text/plain": [
       "                      Senator  Estimated Holdings Symbol  \\\n",
       "0        Susan Collins (R-ME)            42333400    MMM   \n",
       "1          Mark Warner (D-VA)            23574100    BDJ   \n",
       "2      Mitch McConnell (R-KY)            12320800  VFIAX   \n",
       "3     Dianne Feinstein (D-CA)             9205300   CBRE   \n",
       "4     Elizabeth Warren (D-MA)             8439900  TRGIX   \n",
       "...                       ...                 ...    ...   \n",
       "2491       Jerry Moran (R-KS)                   0    RIG   \n",
       "2492      John Boozman (R-AR)                   0   VCSH   \n",
       "2493       Gary Peters (D-MI)                   0    MCC   \n",
       "2494      Patty Murray (D-WA)                   0    MET   \n",
       "2495      Thad Cochran (R-MS)                   0    WLL   \n",
       "\n",
       "                                        Company              Sector  \\\n",
       "0                                    3M Company         Health Care   \n",
       "1         Blackrock Enhanced Equity Divid Trust             Finance   \n",
       "2               Vanguard 500 Index Admiral Fund             Finance   \n",
       "3                                    CBRE Group             Finance   \n",
       "4     TIAA-CREF Growth & Income Retirement Fund             Finance   \n",
       "...                                         ...                 ...   \n",
       "2491                             Transocean Ltd              Energy   \n",
       "2492         Vanguard Short-term Corporate Bond             Finance   \n",
       "2493                        Medley Capital Corp             Finance   \n",
       "2494                                MetLife Inc  Financial Services   \n",
       "2495                          Whiting Petroleum              Energy   \n",
       "\n",
       "                                Industry Party State  \n",
       "0             Medical/Dental Instruments     R    ME  \n",
       "1                    Investment Managers     D    VA  \n",
       "2                    Investment Managers     R    KY  \n",
       "3                    Investment Managers     D    CA  \n",
       "4                    Investment Managers     D    MA  \n",
       "...                                  ...   ...   ...  \n",
       "2491                  Oil & Gas Drilling     R    KS  \n",
       "2492                                ETFs     R    AR  \n",
       "2493                    Closed-End Funds     D    MI  \n",
       "2494                    Insurance - Life     D    WA  \n",
       "2495  Oil & Gas Exploration & Production     R    MS  \n",
       "\n",
       "[2496 rows x 8 columns]"
      ]
     },
     "execution_count": 2,
     "metadata": {},
     "output_type": "execute_result"
    }
   ],
   "source": [
    "df = pd.read_csv(\"./Data/cleaned_govtrades.csv\")\n",
    "df[\"Estimated Holdings\"] = df[\"Estimated Holdings\"].str[1:].str.replace(\",\", \"\")\n",
    "df[\"Estimated Holdings\"] = df[\"Estimated Holdings\"].astype(int)\n",
    "df[\"Party\"] = df[\"Senator\"].str[-5]\n",
    "df[\"State\"] = df[\"Senator\"].str[-3:-1]\n",
    "df"
   ]
  },
  {
   "cell_type": "markdown",
   "metadata": {},
   "source": [
    "## GovTrades Analysis"
   ]
  },
  {
   "cell_type": "markdown",
   "metadata": {},
   "source": [
    "### Which Sectors have Senators invested in?"
   ]
  },
  {
   "cell_type": "code",
   "execution_count": 5,
   "metadata": {},
   "outputs": [],
   "source": [
    "def getSumCount(df, group_col, agg_col):\n",
    "    grouped_holdings = df.groupby(group_col).agg({agg_col: [\"sum\", \"count\"]}).reset_index()\n",
    "    grouped_holdings.columns = [' '.join(col).strip() for col in grouped_holdings.columns.values]\n",
    "    return grouped_holdings"
   ]
  },
  {
   "cell_type": "code",
   "execution_count": 6,
   "metadata": {},
   "outputs": [
    {
     "data": {
      "text/html": [
       "<div>\n",
       "<style scoped>\n",
       "    .dataframe tbody tr th:only-of-type {\n",
       "        vertical-align: middle;\n",
       "    }\n",
       "\n",
       "    .dataframe tbody tr th {\n",
       "        vertical-align: top;\n",
       "    }\n",
       "\n",
       "    .dataframe thead th {\n",
       "        text-align: right;\n",
       "    }\n",
       "</style>\n",
       "<table border=\"1\" class=\"dataframe\">\n",
       "  <thead>\n",
       "    <tr style=\"text-align: right;\">\n",
       "      <th></th>\n",
       "      <th>Sector</th>\n",
       "      <th>Estimated Holdings sum</th>\n",
       "      <th>Estimated Holdings count</th>\n",
       "    </tr>\n",
       "  </thead>\n",
       "  <tbody>\n",
       "    <tr>\n",
       "      <th>0</th>\n",
       "      <td>Basic Industries</td>\n",
       "      <td>1635600</td>\n",
       "      <td>89</td>\n",
       "    </tr>\n",
       "    <tr>\n",
       "      <th>1</th>\n",
       "      <td>Basic Materials</td>\n",
       "      <td>700</td>\n",
       "      <td>1</td>\n",
       "    </tr>\n",
       "    <tr>\n",
       "      <th>2</th>\n",
       "      <td>Capital Goods</td>\n",
       "      <td>77321000</td>\n",
       "      <td>54</td>\n",
       "    </tr>\n",
       "    <tr>\n",
       "      <th>3</th>\n",
       "      <td>Consumer Cyclical</td>\n",
       "      <td>1800</td>\n",
       "      <td>6</td>\n",
       "    </tr>\n",
       "    <tr>\n",
       "      <th>4</th>\n",
       "      <td>Consumer Defensive</td>\n",
       "      <td>900</td>\n",
       "      <td>2</td>\n",
       "    </tr>\n",
       "    <tr>\n",
       "      <th>5</th>\n",
       "      <td>Consumer Discretionary</td>\n",
       "      <td>600</td>\n",
       "      <td>2</td>\n",
       "    </tr>\n",
       "    <tr>\n",
       "      <th>6</th>\n",
       "      <td>Consumer Durables</td>\n",
       "      <td>456600</td>\n",
       "      <td>10</td>\n",
       "    </tr>\n",
       "    <tr>\n",
       "      <th>7</th>\n",
       "      <td>Consumer Non-Durables</td>\n",
       "      <td>5879700</td>\n",
       "      <td>166</td>\n",
       "    </tr>\n",
       "    <tr>\n",
       "      <th>8</th>\n",
       "      <td>Consumer Services</td>\n",
       "      <td>45995000</td>\n",
       "      <td>439</td>\n",
       "    </tr>\n",
       "    <tr>\n",
       "      <th>9</th>\n",
       "      <td>Consumer Staples</td>\n",
       "      <td>100</td>\n",
       "      <td>1</td>\n",
       "    </tr>\n",
       "    <tr>\n",
       "      <th>10</th>\n",
       "      <td>Energy</td>\n",
       "      <td>80500</td>\n",
       "      <td>41</td>\n",
       "    </tr>\n",
       "    <tr>\n",
       "      <th>11</th>\n",
       "      <td>Finance</td>\n",
       "      <td>76064600</td>\n",
       "      <td>372</td>\n",
       "    </tr>\n",
       "    <tr>\n",
       "      <th>12</th>\n",
       "      <td>Financial Services</td>\n",
       "      <td>4500</td>\n",
       "      <td>14</td>\n",
       "    </tr>\n",
       "    <tr>\n",
       "      <th>13</th>\n",
       "      <td>Health Care</td>\n",
       "      <td>79751500</td>\n",
       "      <td>419</td>\n",
       "    </tr>\n",
       "    <tr>\n",
       "      <th>14</th>\n",
       "      <td>Healthcare</td>\n",
       "      <td>3700</td>\n",
       "      <td>8</td>\n",
       "    </tr>\n",
       "    <tr>\n",
       "      <th>15</th>\n",
       "      <td>Industrials</td>\n",
       "      <td>6300</td>\n",
       "      <td>19</td>\n",
       "    </tr>\n",
       "    <tr>\n",
       "      <th>16</th>\n",
       "      <td>Information Technology</td>\n",
       "      <td>300</td>\n",
       "      <td>1</td>\n",
       "    </tr>\n",
       "    <tr>\n",
       "      <th>17</th>\n",
       "      <td>Miscellaneous</td>\n",
       "      <td>3282900</td>\n",
       "      <td>69</td>\n",
       "    </tr>\n",
       "    <tr>\n",
       "      <th>18</th>\n",
       "      <td>Public Utilities</td>\n",
       "      <td>1819000</td>\n",
       "      <td>52</td>\n",
       "    </tr>\n",
       "    <tr>\n",
       "      <th>19</th>\n",
       "      <td>Real Estate</td>\n",
       "      <td>900</td>\n",
       "      <td>2</td>\n",
       "    </tr>\n",
       "    <tr>\n",
       "      <th>20</th>\n",
       "      <td>Technology</td>\n",
       "      <td>138481300</td>\n",
       "      <td>722</td>\n",
       "    </tr>\n",
       "    <tr>\n",
       "      <th>21</th>\n",
       "      <td>Utilities</td>\n",
       "      <td>2300</td>\n",
       "      <td>7</td>\n",
       "    </tr>\n",
       "  </tbody>\n",
       "</table>\n",
       "</div>"
      ],
      "text/plain": [
       "                    Sector  Estimated Holdings sum  Estimated Holdings count\n",
       "0         Basic Industries                 1635600                        89\n",
       "1          Basic Materials                     700                         1\n",
       "2            Capital Goods                77321000                        54\n",
       "3        Consumer Cyclical                    1800                         6\n",
       "4       Consumer Defensive                     900                         2\n",
       "5   Consumer Discretionary                     600                         2\n",
       "6        Consumer Durables                  456600                        10\n",
       "7    Consumer Non-Durables                 5879700                       166\n",
       "8        Consumer Services                45995000                       439\n",
       "9         Consumer Staples                     100                         1\n",
       "10                  Energy                   80500                        41\n",
       "11                 Finance                76064600                       372\n",
       "12      Financial Services                    4500                        14\n",
       "13             Health Care                79751500                       419\n",
       "14              Healthcare                    3700                         8\n",
       "15             Industrials                    6300                        19\n",
       "16  Information Technology                     300                         1\n",
       "17           Miscellaneous                 3282900                        69\n",
       "18        Public Utilities                 1819000                        52\n",
       "19             Real Estate                     900                         2\n",
       "20              Technology               138481300                       722\n",
       "21               Utilities                    2300                         7"
      ]
     },
     "execution_count": 6,
     "metadata": {},
     "output_type": "execute_result"
    }
   ],
   "source": [
    "sector_holdings = getSumCount(df, \"Sector\", \"Estimated Holdings\")\n",
    "sector_holdings"
   ]
  },
  {
   "cell_type": "code",
   "execution_count": 7,
   "metadata": {},
   "outputs": [
    {
     "data": {
      "image/png": "[encoded data removed]",
      "text/plain": [
       "<Figure size 640x480 with 1 Axes>"
      ]
     },
     "metadata": {},
     "output_type": "display_data"
    }
   ],
   "source": [
    "scale = 1e5\n",
    "pie_sector_data = sector_holdings[\"Estimated Holdings sum\"]/scale\n",
    "pie_sector_data /= pie_sector_data.sum()\n",
    "pie_sector_data *= 100\n",
    "indices = pie_sector_data>2\n",
    "\n",
    "with plt.style.context('ggplot'):\n",
    "    _ = plt.pie(pie_sector_data[indices], labels = sector_holdings[\"Sector\"][indices]\n",
    "                , wedgeprops={\"edgecolor\": \"black\"}, autopct=\"%1.2f%%\"\n",
    "                , shadow=True)\n",
    "    plt.tight_layout()\n",
    "    plt.title(\"Pie Chart of Investment Amount by Sector \\n(Others=2%)\")\n",
    "    plt.show()\n",
    "plt.close()\n",
    "# https://scc.ms.unimelb.edu.au/resources/data-visualisation-and-exploration/no_pie-charts"
   ]
  },
  {
   "cell_type": "markdown",
   "metadata": {},
   "source": [
    "### How does Estimated Investment depend on the State the Senator is from?"
   ]
  },
  {
   "cell_type": "code",
   "execution_count": 3,
   "metadata": {},
   "outputs": [],
   "source": [
    "state_holdings = df.groupby('State')['Estimated Holdings'].sum().reset_index()"
   ]
  },
  {
   "cell_type": "code",
   "execution_count": 4,
   "metadata": {},
   "outputs": [
    {
     "data": {
      "application/vnd.plotly.v1+json": {
       "config": {
        "plotlyServerURL": "https://plot.ly"
       },
       "data": [
        {
         "locationmode": "USA-states",
         "locations": [
          "AK",
          "AL",
          "AR",
          "CA",
          "CO",
          "CT",
          "DE",
          "FL",
          "GA",
          "HI",
          "IA",
          "ID",
          "IL",
          "KS",
          "KY",
          "LA",
          "MA",
          "MD",
          "ME",
          "MI",
          "MN",
          "MO",
          "MS",
          "MT",
          "NC",
          "ND",
          "NE",
          "NH",
          "NJ",
          "NM",
          "NV",
          "NY",
          "OH",
          "OK",
          "OR",
          "PA",
          "RI",
          "SC",
          "SD",
          "TN",
          "TX",
          "UT",
          "VA",
          "VT",
          "WA",
          "WV",
          "WY"
         ],
         "marker": {
          "color": "skyblue",
          "line": {
           "color": "DarkSlateGray",
           "width": 1
          },
          "size": [
           29.426,
           18.088,
           56.551,
           397.482,
           74.961,
           116.638,
           60.305,
           0.115,
           315.628,
           18.269,
           26.695,
           4.363,
           29.101,
           44.539,
           183.182,
           18.627,
           127.395,
           35.976,
           606.413,
           37.868,
           90.708,
           12.04,
           26.105,
           12.934,
           46.591,
           263.511,
           9.261,
           9.92,
           0.008,
           28.235,
           36.51,
           0.621,
           112.719,
           26.979,
           59.355,
           42.868,
           164.537,
           7.315,
           10.171,
           11.924,
           23.258,
           1.08,
           924.587,
           5.724,
           11.387,
           95.263,
           72.665
          ],
          "sizemode": "area"
         },
         "showlegend": false,
         "text": [
          29.43,
          18.09,
          56.55,
          397.48,
          74.96,
          116.64,
          60.3,
          0.12,
          315.63,
          18.27,
          26.7,
          4.36,
          29.1,
          44.54,
          183.18,
          18.63,
          127.4,
          35.98,
          606.41,
          37.87,
          90.71,
          12.04,
          26.1,
          12.93,
          46.59,
          263.51,
          9.26,
          9.92,
          0.01,
          28.24,
          36.51,
          0.62,
          112.72,
          26.98,
          59.36,
          42.87,
          164.54,
          7.32,
          10.17,
          11.92,
          23.26,
          1.08,
          924.59,
          5.72,
          11.39,
          95.26,
          72.67
         ],
         "type": "scattergeo"
        },
        {
         "locationmode": "USA-states",
         "locations": [
          "AK",
          "AL",
          "AR",
          "CA",
          "CO",
          "CT",
          "DE",
          "FL",
          "GA",
          "HI",
          "IA",
          "ID",
          "IL",
          "KS",
          "KY",
          "LA",
          "MA",
          "MD",
          "ME",
          "MI",
          "MN",
          "MO",
          "MS",
          "MT",
          "NC",
          "ND",
          "NE",
          "NH",
          "NJ",
          "NM",
          "NV",
          "NY",
          "OH",
          "OK",
          "OR",
          "PA",
          "RI",
          "SC",
          "SD",
          "TN",
          "TX",
          "UT",
          "VA",
          "VT",
          "WA",
          "WV",
          "WY"
         ],
         "mode": "text",
         "showlegend": false,
         "text": [
          "AK",
          "AL",
          "AR",
          "CA",
          "CO",
          "CT",
          "DE",
          "FL",
          "GA",
          "HI",
          "IA",
          "ID",
          "IL",
          "KS",
          "KY",
          "LA",
          "MA",
          "MD",
          "ME",
          "MI",
          "MN",
          "MO",
          "MS",
          "MT",
          "NC",
          "ND",
          "NE",
          "NH",
          "NJ",
          "NM",
          "NV",
          "NY",
          "OH",
          "OK",
          "OR",
          "PA",
          "RI",
          "SC",
          "SD",
          "TN",
          "TX",
          "UT",
          "VA",
          "VT",
          "WA",
          "WV",
          "WY"
         ],
         "textposition": "top left",
         "type": "scattergeo"
        }
       ],
       "layout": {
        "geo": {
         "lakecolor": "rgb(255, 255, 255)",
         "scope": "usa"
        },
        "template": {
         "data": {
          "bar": [
           {
            "error_x": {
             "color": "#2a3f5f"
            },
            "error_y": {
             "color": "#2a3f5f"
            },
            "marker": {
             "line": {
              "color": "#E5ECF6",
              "width": 0.5
             },
             "pattern": {
              "fillmode": "overlay",
              "size": 10,
              "solidity": 0.2
             }
            },
            "type": "bar"
           }
          ],
          "barpolar": [
           {
            "marker": {
             "line": {
              "color": "#E5ECF6",
              "width": 0.5
             },
             "pattern": {
              "fillmode": "overlay",
              "size": 10,
              "solidity": 0.2
             }
            },
            "type": "barpolar"
           }
          ],
          "carpet": [
           {
            "aaxis": {
             "endlinecolor": "#2a3f5f",
             "gridcolor": "white",
             "linecolor": "white",
             "minorgridcolor": "white",
             "startlinecolor": "#2a3f5f"
            },
            "baxis": {
             "endlinecolor": "#2a3f5f",
             "gridcolor": "white",
             "linecolor": "white",
             "minorgridcolor": "white",
             "startlinecolor": "#2a3f5f"
            },
            "type": "carpet"
           }
          ],
          "choropleth": [
           {
            "colorbar": {
             "outlinewidth": 0,
             "ticks": ""
            },
            "type": "choropleth"
           }
          ],
          "contour": [
           {
            "colorbar": {
             "outlinewidth": 0,
             "ticks": ""
            },
            "colorscale": [
             [
              0,
              "#0d0887"
             ],
             [
              0.1111111111111111,
              "#46039f"
             ],
             [
              0.2222222222222222,
              "#7201a8"
             ],
             [
              0.3333333333333333,
              "#9c179e"
             ],
             [
              0.4444444444444444,
              "#bd3786"
             ],
             [
              0.5555555555555556,
              "#d8576b"
             ],
             [
              0.6666666666666666,
              "#ed7953"
             ],
             [
              0.7777777777777778,
              "#fb9f3a"
             ],
             [
              0.8888888888888888,
              "#fdca26"
             ],
             [
              1,
              "#f0f921"
             ]
            ],
            "type": "contour"
           }
          ],
          "contourcarpet": [
           {
            "colorbar": {
             "outlinewidth": 0,
             "ticks": ""
            },
            "type": "contourcarpet"
           }
          ],
          "heatmap": [
           {
            "colorbar": {
             "outlinewidth": 0,
             "ticks": ""
            },
            "colorscale": [
             [
              0,
              "#0d0887"
             ],
             [
              0.1111111111111111,
              "#46039f"
             ],
             [
              0.2222222222222222,
              "#7201a8"
             ],
             [
              0.3333333333333333,
              "#9c179e"
             ],
             [
              0.4444444444444444,
              "#bd3786"
             ],
             [
              0.5555555555555556,
              "#d8576b"
             ],
             [
              0.6666666666666666,
              "#ed7953"
             ],
             [
              0.7777777777777778,
              "#fb9f3a"
             ],
             [
              0.8888888888888888,
              "#fdca26"
             ],
             [
              1,
              "#f0f921"
             ]
            ],
            "type": "heatmap"
           }
          ],
          "heatmapgl": [
           {
            "colorbar": {
             "outlinewidth": 0,
             "ticks": ""
            },
            "colorscale": [
             [
              0,
              "#0d0887"
             ],
             [
              0.1111111111111111,
              "#46039f"
             ],
             [
              0.2222222222222222,
              "#7201a8"
             ],
             [
              0.3333333333333333,
              "#9c179e"
             ],
             [
              0.4444444444444444,
              "#bd3786"
             ],
             [
              0.5555555555555556,
              "#d8576b"
             ],
             [
              0.6666666666666666,
              "#ed7953"
             ],
             [
              0.7777777777777778,
              "#fb9f3a"
             ],
             [
              0.8888888888888888,
              "#fdca26"
             ],
             [
              1,
              "#f0f921"
             ]
            ],
            "type": "heatmapgl"
           }
          ],
          "histogram": [
           {
            "marker": {
             "pattern": {
              "fillmode": "overlay",
              "size": 10,
              "solidity": 0.2
             }
            },
            "type": "histogram"
           }
          ],
          "histogram2d": [
           {
            "colorbar": {
             "outlinewidth": 0,
             "ticks": ""
            },
            "colorscale": [
             [
              0,
              "#0d0887"
             ],
             [
              0.1111111111111111,
              "#46039f"
             ],
             [
              0.2222222222222222,
              "#7201a8"
             ],
             [
              0.3333333333333333,
              "#9c179e"
             ],
             [
              0.4444444444444444,
              "#bd3786"
             ],
             [
              0.5555555555555556,
              "#d8576b"
             ],
             [
              0.6666666666666666,
              "#ed7953"
             ],
             [
              0.7777777777777778,
              "#fb9f3a"
             ],
             [
              0.8888888888888888,
              "#fdca26"
             ],
             [
              1,
              "#f0f921"
             ]
            ],
            "type": "histogram2d"
           }
          ],
          "histogram2dcontour": [
           {
            "colorbar": {
             "outlinewidth": 0,
             "ticks": ""
            },
            "colorscale": [
             [
              0,
              "#0d0887"
             ],
             [
              0.1111111111111111,
              "#46039f"
             ],
             [
              0.2222222222222222,
              "#7201a8"
             ],
             [
              0.3333333333333333,
              "#9c179e"
             ],
             [
              0.4444444444444444,
              "#bd3786"
             ],
             [
              0.5555555555555556,
              "#d8576b"
             ],
             [
              0.6666666666666666,
              "#ed7953"
             ],
             [
              0.7777777777777778,
              "#fb9f3a"
             ],
             [
              0.8888888888888888,
              "#fdca26"
             ],
             [
              1,
              "#f0f921"
             ]
            ],
            "type": "histogram2dcontour"
           }
          ],
          "mesh3d": [
           {
            "colorbar": {
             "outlinewidth": 0,
             "ticks": ""
            },
            "type": "mesh3d"
           }
          ],
          "parcoords": [
           {
            "line": {
             "colorbar": {
              "outlinewidth": 0,
              "ticks": ""
             }
            },
            "type": "parcoords"
           }
          ],
          "pie": [
           {
            "automargin": true,
            "type": "pie"
           }
          ],
          "scatter": [
           {
            "fillpattern": {
             "fillmode": "overlay",
             "size": 10,
             "solidity": 0.2
            },
            "type": "scatter"
           }
          ],
          "scatter3d": [
           {
            "line": {
             "colorbar": {
              "outlinewidth": 0,
              "ticks": ""
             }
            },
            "marker": {
             "colorbar": {
              "outlinewidth": 0,
              "ticks": ""
             }
            },
            "type": "scatter3d"
           }
          ],
          "scattercarpet": [
           {
            "marker": {
             "colorbar": {
              "outlinewidth": 0,
              "ticks": ""
             }
            },
            "type": "scattercarpet"
           }
          ],
          "scattergeo": [
           {
            "marker": {
             "colorbar": {
              "outlinewidth": 0,
              "ticks": ""
             }
            },
            "type": "scattergeo"
           }
          ],
          "scattergl": [
           {
            "marker": {
             "colorbar": {
              "outlinewidth": 0,
              "ticks": ""
             }
            },
            "type": "scattergl"
           }
          ],
          "scattermapbox": [
           {
            "marker": {
             "colorbar": {
              "outlinewidth": 0,
              "ticks": ""
             }
            },
            "type": "scattermapbox"
           }
          ],
          "scatterpolar": [
           {
            "marker": {
             "colorbar": {
              "outlinewidth": 0,
              "ticks": ""
             }
            },
            "type": "scatterpolar"
           }
          ],
          "scatterpolargl": [
           {
            "marker": {
             "colorbar": {
              "outlinewidth": 0,
              "ticks": ""
             }
            },
            "type": "scatterpolargl"
           }
          ],
          "scatterternary": [
           {
            "marker": {
             "colorbar": {
              "outlinewidth": 0,
              "ticks": ""
             }
            },
            "type": "scatterternary"
           }
          ],
          "surface": [
           {
            "colorbar": {
             "outlinewidth": 0,
             "ticks": ""
            },
            "colorscale": [
             [
              0,
              "#0d0887"
             ],
             [
              0.1111111111111111,
              "#46039f"
             ],
             [
              0.2222222222222222,
              "#7201a8"
             ],
             [
              0.3333333333333333,
              "#9c179e"
             ],
             [
              0.4444444444444444,
              "#bd3786"
             ],
             [
              0.5555555555555556,
              "#d8576b"
             ],
             [
              0.6666666666666666,
              "#ed7953"
             ],
             [
              0.7777777777777778,
              "#fb9f3a"
             ],
             [
              0.8888888888888888,
              "#fdca26"
             ],
             [
              1,
              "#f0f921"
             ]
            ],
            "type": "surface"
           }
          ],
          "table": [
           {
            "cells": {
             "fill": {
              "color": "#EBF0F8"
             },
             "line": {
              "color": "white"
             }
            },
            "header": {
             "fill": {
              "color": "#C8D4E3"
             },
             "line": {
              "color": "white"
             }
            },
            "type": "table"
           }
          ]
         },
         "layout": {
          "annotationdefaults": {
           "arrowcolor": "#2a3f5f",
           "arrowhead": 0,
           "arrowwidth": 1
          },
          "autotypenumbers": "strict",
          "coloraxis": {
           "colorbar": {
            "outlinewidth": 0,
            "ticks": ""
           }
          },
          "colorscale": {
           "diverging": [
            [
             0,
             "#8e0152"
            ],
            [
             0.1,
             "#c51b7d"
            ],
            [
             0.2,
             "#de77ae"
            ],
            [
             0.3,
             "#f1b6da"
            ],
            [
             0.4,
             "#fde0ef"
            ],
            [
             0.5,
             "#f7f7f7"
            ],
            [
             0.6,
             "#e6f5d0"
            ],
            [
             0.7,
             "#b8e186"
            ],
            [
             0.8,
             "#7fbc41"
            ],
            [
             0.9,
             "#4d9221"
            ],
            [
             1,
             "#276419"
            ]
           ],
           "sequential": [
            [
             0,
             "#0d0887"
            ],
            [
             0.1111111111111111,
             "#46039f"
            ],
            [
             0.2222222222222222,
             "#7201a8"
            ],
            [
             0.3333333333333333,
             "#9c179e"
            ],
            [
             0.4444444444444444,
             "#bd3786"
            ],
            [
             0.5555555555555556,
             "#d8576b"
            ],
            [
             0.6666666666666666,
             "#ed7953"
            ],
            [
             0.7777777777777778,
             "#fb9f3a"
            ],
            [
             0.8888888888888888,
             "#fdca26"
            ],
            [
             1,
             "#f0f921"
            ]
           ],
           "sequentialminus": [
            [
             0,
             "#0d0887"
            ],
            [
             0.1111111111111111,
             "#46039f"
            ],
            [
             0.2222222222222222,
             "#7201a8"
            ],
            [
             0.3333333333333333,
             "#9c179e"
            ],
            [
             0.4444444444444444,
             "#bd3786"
            ],
            [
             0.5555555555555556,
             "#d8576b"
            ],
            [
             0.6666666666666666,
             "#ed7953"
            ],
            [
             0.7777777777777778,
             "#fb9f3a"
            ],
            [
             0.8888888888888888,
             "#fdca26"
            ],
            [
             1,
             "#f0f921"
            ]
           ]
          },
          "colorway": [
           "#636efa",
           "#EF553B",
           "#00cc96",
           "#ab63fa",
           "#FFA15A",
           "#19d3f3",
           "#FF6692",
           "#B6E880",
           "#FF97FF",
           "#FECB52"
          ],
          "font": {
           "color": "#2a3f5f"
          },
          "geo": {
           "bgcolor": "white",
           "lakecolor": "white",
           "landcolor": "#E5ECF6",
           "showlakes": true,
           "showland": true,
           "subunitcolor": "white"
          },
          "hoverlabel": {
           "align": "left"
          },
          "hovermode": "closest",
          "mapbox": {
           "style": "light"
          },
          "paper_bgcolor": "white",
          "plot_bgcolor": "#E5ECF6",
          "polar": {
           "angularaxis": {
            "gridcolor": "white",
            "linecolor": "white",
            "ticks": ""
           },
           "bgcolor": "#E5ECF6",
           "radialaxis": {
            "gridcolor": "white",
            "linecolor": "white",
            "ticks": ""
           }
          },
          "scene": {
           "xaxis": {
            "backgroundcolor": "#E5ECF6",
            "gridcolor": "white",
            "gridwidth": 2,
            "linecolor": "white",
            "showbackground": true,
            "ticks": "",
            "zerolinecolor": "white"
           },
           "yaxis": {
            "backgroundcolor": "#E5ECF6",
            "gridcolor": "white",
            "gridwidth": 2,
            "linecolor": "white",
            "showbackground": true,
            "ticks": "",
            "zerolinecolor": "white"
           },
           "zaxis": {
            "backgroundcolor": "#E5ECF6",
            "gridcolor": "white",
            "gridwidth": 2,
            "linecolor": "white",
            "showbackground": true,
            "ticks": "",
            "zerolinecolor": "white"
           }
          },
          "shapedefaults": {
           "line": {
            "color": "#2a3f5f"
           }
          },
          "ternary": {
           "aaxis": {
            "gridcolor": "white",
            "linecolor": "white",
            "ticks": ""
           },
           "baxis": {
            "gridcolor": "white",
            "linecolor": "white",
            "ticks": ""
           },
           "bgcolor": "#E5ECF6",
           "caxis": {
            "gridcolor": "white",
            "linecolor": "white",
            "ticks": ""
           }
          },
          "title": {
           "x": 0.05
          },
          "xaxis": {
           "automargin": true,
           "gridcolor": "white",
           "linecolor": "white",
           "ticks": "",
           "title": {
            "standoff": 15
           },
           "zerolinecolor": "white",
           "zerolinewidth": 2
          },
          "yaxis": {
           "automargin": true,
           "gridcolor": "white",
           "linecolor": "white",
           "ticks": "",
           "title": {
            "standoff": 15
           },
           "zerolinecolor": "white",
           "zerolinewidth": 2
          }
         }
        },
        "title": {
         "text": "Estimated Holdings by State"
        }
       }
      }
     },
     "metadata": {},
     "output_type": "display_data"
    }
   ],
   "source": [
    "scale = 1e5\n",
    "fig = go.Figure(data=[\n",
    "    go.Scattergeo(\n",
    "    locationmode='USA-states',\n",
    "    locations=state_holdings['State'],    \n",
    "    text=(state_holdings['Estimated Holdings']/scale).round(2),\n",
    "    showlegend=False,\n",
    "    marker=dict(\n",
    "        size=state_holdings['Estimated Holdings'] / scale, \n",
    "        color='skyblue',\n",
    "        line=dict(width=1, color='DarkSlateGray'),\n",
    "        sizemode='area',\n",
    "        )\n",
    "\n",
    "    ),\n",
    "    go.Scattergeo(\n",
    "        locationmode='USA-states',\n",
    "        locations=state_holdings['State'],\n",
    "        text=state_holdings['State'],  # State names near states\n",
    "        mode='text',\n",
    "        textposition='top left',  # State names above bubbles\n",
    "        showlegend=False, #prevent legend from showing up.\n",
    "    )\n",
    "    ]\n",
    ")\n",
    "\n",
    "fig.update_layout(\n",
    "    title_text='Estimated Holdings by State',\n",
    "    geo=dict(\n",
    "        scope='usa',\n",
    "        # projection_type='albers usa',\n",
    "        # showlakes=True,\n",
    "        lakecolor='rgb(255, 255, 255)'\n",
    "    )\n",
    ")\n",
    "fig.show()"
   ]
  },
  {
   "cell_type": "markdown",
   "metadata": {},
   "source": [
    "### How  diversified are Senators' investements by Party?"
   ]
  },
  {
   "cell_type": "code",
   "execution_count": 45,
   "metadata": {},
   "outputs": [
    {
     "data": {
      "image/png": "[encoded data removed]",
      "text/plain": [
       "<Figure size 640x480 with 1 Axes>"
      ]
     },
     "metadata": {},
     "output_type": "display_data"
    }
   ],
   "source": [
    "df_senator_party = df[[\"Senator\", \"Party\"]]\n",
    "df_senator_count_total = df.groupby(\"Senator\").agg({\"Party\": \"count\"}).reset_index()\n",
    "df_senator_count_total.columns = [\"Senator\", \"Count\"]\n",
    "df_senator_count_total = pd.merge(df_senator_count_total, df_senator_party, on=\"Senator\", how=\"left\")\n",
    "\n",
    "ra= plt.hist(df_senator_count_total[df_senator_count_total[\"Party\"]==\"R\"][\"Count\"], histtype=\"bar\", alpha=0.8, color=\"red\", label=\"R\", bins=25)\n",
    "da= plt.hist(df_senator_count_total[df_senator_count_total[\"Party\"]==\"D\"][\"Count\"], histtype=\"bar\", alpha=0.5, color=\"blue\", label=\"D\", bins=25)\n",
    "plt.legend()\n",
    "\n",
    "plt.title(\"Investment Diversity R vs D\")\n",
    "plt.xlabel(\"Number of different companies\")\n",
    "plt.ylabel('Count')\n",
    "plt.show()\n",
    "plt.close()"
   ]
  },
  {
   "cell_type": "code",
   "execution_count": null,
   "metadata": {},
   "outputs": [
    {
     "data": {
      "text/html": [
       "<div>\n",
       "<style scoped>\n",
       "    .dataframe tbody tr th:only-of-type {\n",
       "        vertical-align: middle;\n",
       "    }\n",
       "\n",
       "    .dataframe tbody tr th {\n",
       "        vertical-align: top;\n",
       "    }\n",
       "\n",
       "    .dataframe thead th {\n",
       "        text-align: right;\n",
       "    }\n",
       "</style>\n",
       "<table border=\"1\" class=\"dataframe\">\n",
       "  <thead>\n",
       "    <tr style=\"text-align: right;\">\n",
       "      <th></th>\n",
       "      <th>index</th>\n",
       "      <th>Count</th>\n",
       "    </tr>\n",
       "  </thead>\n",
       "  <tbody>\n",
       "    <tr>\n",
       "      <th>0</th>\n",
       "      <td>0</td>\n",
       "      <td>10</td>\n",
       "    </tr>\n",
       "    <tr>\n",
       "      <th>1</th>\n",
       "      <td>1</td>\n",
       "      <td>10</td>\n",
       "    </tr>\n",
       "    <tr>\n",
       "      <th>2</th>\n",
       "      <td>2</td>\n",
       "      <td>10</td>\n",
       "    </tr>\n",
       "    <tr>\n",
       "      <th>3</th>\n",
       "      <td>3</td>\n",
       "      <td>10</td>\n",
       "    </tr>\n",
       "    <tr>\n",
       "      <th>4</th>\n",
       "      <td>4</td>\n",
       "      <td>10</td>\n",
       "    </tr>\n",
       "    <tr>\n",
       "      <th>...</th>\n",
       "      <td>...</td>\n",
       "      <td>...</td>\n",
       "    </tr>\n",
       "    <tr>\n",
       "      <th>1188</th>\n",
       "      <td>2491</td>\n",
       "      <td>18</td>\n",
       "    </tr>\n",
       "    <tr>\n",
       "      <th>1189</th>\n",
       "      <td>2492</td>\n",
       "      <td>18</td>\n",
       "    </tr>\n",
       "    <tr>\n",
       "      <th>1190</th>\n",
       "      <td>2493</td>\n",
       "      <td>18</td>\n",
       "    </tr>\n",
       "    <tr>\n",
       "      <th>1191</th>\n",
       "      <td>2494</td>\n",
       "      <td>18</td>\n",
       "    </tr>\n",
       "    <tr>\n",
       "      <th>1192</th>\n",
       "      <td>2495</td>\n",
       "      <td>18</td>\n",
       "    </tr>\n",
       "  </tbody>\n",
       "</table>\n",
       "<p>1193 rows × 2 columns</p>\n",
       "</div>"
      ],
      "text/plain": [
       "      index  Count\n",
       "0         0     10\n",
       "1         1     10\n",
       "2         2     10\n",
       "3         3     10\n",
       "4         4     10\n",
       "...     ...    ...\n",
       "1188   2491     18\n",
       "1189   2492     18\n",
       "1190   2493     18\n",
       "1191   2494     18\n",
       "1192   2495     18\n",
       "\n",
       "[1193 rows x 2 columns]"
      ]
     },
     "execution_count": 34,
     "metadata": {},
     "output_type": "execute_result"
    }
   ],
   "source": [
    "df_senator_count_r = df_senator_count_total[df_senator_count_total[\"Party\"]==\"R\"][\"Count\"].reset_index()\n",
    "df_senator_count_d = df_senator_count_total[df_senator_count_total[\"Party\"]==\"D\"][\"Count\"].reset_index()"
   ]
  },
  {
   "cell_type": "code",
   "execution_count": 44,
   "metadata": {},
   "outputs": [
    {
     "name": "stderr",
     "output_type": "stream",
     "text": [
      "c:\\Users\\siddh\\anaconda3\\Lib\\site-packages\\seaborn\\_oldcore.py:1119: FutureWarning:\n",
      "\n",
      "use_inf_as_na option is deprecated and will be removed in a future version. Convert inf values to NaN before operating instead.\n",
      "\n",
      "c:\\Users\\siddh\\anaconda3\\Lib\\site-packages\\seaborn\\_oldcore.py:1119: FutureWarning:\n",
      "\n",
      "use_inf_as_na option is deprecated and will be removed in a future version. Convert inf values to NaN before operating instead.\n",
      "\n"
     ]
    },
    {
     "data": {
      "image/png": "[encoded data removed]",
      "text/plain": [
       "<Figure size 640x480 with 1 Axes>"
      ]
     },
     "metadata": {},
     "output_type": "display_data"
    }
   ],
   "source": [
    "# fig, ax = plt.subplots()\n",
    "sns.kdeplot(data=df_senator_count_r, x=\"Count\", color=\"red\")#, kind=\"kde\"\n",
    "sns.kdeplot(data=df_senator_count_d, x=\"Count\", color=\"blue\")#, kind=\"kde\"\n",
    "# sns.lineplot(x=ra[1][:-1], y=ra[0])\n",
    "\n",
    "plt.xlabel('Category')\n",
    "plt.ylabel('Value')\n",
    "plt.title('Curved Bar Graph')\n",
    "plt.show()"
   ]
  },
  {
   "cell_type": "markdown",
   "metadata": {},
   "source": [
    "## Stanford CA Analysis"
   ]
  },
  {
   "cell_type": "code",
   "execution_count": null,
   "metadata": {},
   "outputs": [],
   "source": []
  }
 ],
 "metadata": {
  "kernelspec": {
   "display_name": "base",
   "language": "python",
   "name": "python3"
  },
  "language_info": {
   "codemirror_mode": {
    "name": "ipython",
    "version": 3
   },
   "file_extension": ".py",
   "mimetype": "text/x-python",
   "name": "python",
   "nbconvert_exporter": "python",
   "pygments_lexer": "ipython3",
   "version": "3.11.7"
  }
 },
 "nbformat": 4,
 "nbformat_minor": 2
}
