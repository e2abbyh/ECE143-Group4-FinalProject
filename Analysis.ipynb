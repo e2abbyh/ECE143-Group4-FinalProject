{
 "cells": [
  {
   "cell_type": "code",
   "execution_count": null,
   "metadata": {},
   "outputs": [],
   "source": [
    "import pandas as pd\n",
    "import plotly.graph_objects as go\n",
    "import matplotlib.pyplot as plt\n",
    "import numpy as np"
   ]
  },
  {
   "cell_type": "code",
   "execution_count": null,
   "metadata": {},
   "outputs": [],
   "source": [
    "df = pd.read_csv(\"./Data/cleaned_govtrades.csv\")\n",
    "df[\"Estimated Holdings\"] = df[\"Estimated Holdings\"].str[1:].str.replace(\",\", \"\")\n",
    "df[\"Estimated Holdings\"] = df[\"Estimated Holdings\"].astype(int)\n",
    "df[\"Party\"] = df[\"Senator\"].str[-5]\n",
    "df[\"State\"] = df[\"Senator\"].str[-3:-1]\n",
    "df"
   ]
  },
  {
   "cell_type": "code",
   "execution_count": null,
   "metadata": {},
   "outputs": [],
   "source": [
    "state_holdings = df.groupby('State')['Estimated Holdings'].sum().reset_index()"
   ]
  },
  {
   "cell_type": "code",
   "execution_count": null,
   "metadata": {},
   "outputs": [],
   "source": [
    "scale = 1e5\n",
    "fig = go.Figure(data=[\n",
    "    go.Scattergeo(\n",
    "    locationmode='USA-states',\n",
    "    locations=state_holdings['State'],    \n",
    "    text=(state_holdings['Estimated Holdings']/scale).round(2),\n",
    "    showlegend=False,\n",
    "    marker=dict(\n",
    "        size=state_holdings['Estimated Holdings'] / scale, \n",
    "        color='skyblue',\n",
    "        line=dict(width=1, color='DarkSlateGray'),\n",
    "        sizemode='area',\n",
    "        )\n",
    "\n",
    "    ),\n",
    "    go.Scattergeo(\n",
    "        locationmode='USA-states',\n",
    "        locations=state_holdings['State'],\n",
    "        text=state_holdings['State'],  # State names near states\n",
    "        mode='text',\n",
    "        textposition='top left',  # State names above bubbles\n",
    "        showlegend=False, #prevent legend from showing up.\n",
    "    )\n",
    "    ]\n",
    ")\n",
    "\n",
    "fig.update_layout(\n",
    "    title_text='Estimated Holdings by State',\n",
    "    geo=dict(\n",
    "        scope='usa',\n",
    "        # projection_type='albers usa',\n",
    "        # showlakes=True,\n",
    "        lakecolor='rgb(255, 255, 255)'\n",
    "    )\n",
    ")\n",
    "fig.show()"
   ]
  },
  {
   "cell_type": "code",
   "execution_count": null,
   "metadata": {},
   "outputs": [],
   "source": [
    "def getSumCount(df, group_col, agg_col):\n",
    "    grouped_holdings = df.groupby(group_col).agg({agg_col: [\"sum\", \"count\"]}).reset_index()\n",
    "    grouped_holdings.columns = [' '.join(col).strip() for col in grouped_holdings.columns.values]\n",
    "    return grouped_holdings"
   ]
  },
  {
   "cell_type": "code",
   "execution_count": null,
   "metadata": {},
   "outputs": [],
   "source": [
    "scale = 1e5\n",
    "pie_sector_data = sector_holdings[\"Estimated Holdings sum\"]/scale\n",
    "pie_sector_data /= pie_sector_data.sum()\n",
    "pie_sector_data *= 100\n",
    "indices = pie_sector_data>2\n",
    "\n",
    "with plt.style.context('ggplot'):\n",
    "    _ = plt.pie(pie_sector_data[indices], labels = sector_holdings[\"Sector\"][indices]\n",
    "                , wedgeprops={\"edgecolor\": \"black\"}, autopct=\"%1.2f%%\"\n",
    "                , shadow=True)\n",
    "    plt.tight_layout\n",
    "    plt.title(\"Pie Chart of Investment Amount by Sector \\n(Others=2%)\")\n",
    "    plt.show()\n",
    "# https://scc.ms.unimelb.edu.au/resources/data-visualisation-and-exploration/no_pie-charts"
   ]
  },
  {
   "cell_type": "code",
   "execution_count": null,
   "metadata": {},
   "outputs": [],
   "source": [
    "df_senator_party = df[[\"Senator\", \"Party\"]]\n",
    "df_senator_count_total = df.groupby(\"Senator\").agg({\"Party\": \"count\"}).reset_index()\n",
    "df_senator_count_total.columns = [\"Senator\", \"Count\"]\n",
    "df_senator_count_total = pd.merge(df_senator_count_total, df_senator_party, on=\"Senator\", how=\"left\")\n",
    "\n",
    "plt.hist(df_senator_count_total[df_senator_count_total[\"Party\"]==\"R\"][\"Count\"], histtype=\"bar\", alpha=0.8, color=\"red\", label=\"R\", bins=25)\n",
    "plt.hist(df_senator_count_total[df_senator_count_total[\"Party\"]==\"D\"][\"Count\"], histtype=\"bar\", alpha=0.5, color=\"blue\", label=\"D\", bins=25)\n",
    "plt.legend()\n",
    "\n",
    "plt.title(\"Investment Diversity R vs D\")\n",
    "plt.xlabel(\"Number of differnt companies\")\n",
    "plt.ylabel('Count')"
   ]
  },
  {
   "cell_type": "code",
   "execution_count": null,
   "metadata": {},
   "outputs": [],
   "source": []
  }
 ],
 "metadata": {
  "kernelspec": {
   "display_name": "base",
   "language": "python",
   "name": "python3"
  },
  "language_info": {
   "codemirror_mode": {
    "name": "ipython",
    "version": 3
   },
   "file_extension": ".py",
   "mimetype": "text/x-python",
   "name": "python",
   "nbconvert_exporter": "python",
   "pygments_lexer": "ipython3",
   "version": "3.11.7"
  }
 },
 "nbformat": 4,
 "nbformat_minor": 2
}
